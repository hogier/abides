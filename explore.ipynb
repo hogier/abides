{
 "cells": [
  {
   "cell_type": "code",
   "execution_count": 1,
   "metadata": {},
   "outputs": [],
   "source": [
    "import pandas as pd\n",
    "import numpy as np\n",
    "import os\n",
    "import matplotlib.pyplot as plt\n",
    "%matplotlib inline"
   ]
  },
  {
   "cell_type": "code",
   "execution_count": 2,
   "metadata": {},
   "outputs": [],
   "source": [
    "from realism.realism_utils import make_orderbook_for_analysis, MID_PRICE_CUTOFF\n",
    "from util.plotting import liquidity_telemetry as lt"
   ]
  },
  {
   "cell_type": "code",
   "execution_count": 3,
   "metadata": {},
   "outputs": [],
   "source": [
    "def get_delays_and_profits(paths):\n",
    "    output = None\n",
    "    slave_ids = {}\n",
    "    master_ids = {}\n",
    "    for path in paths:\n",
    "        master_profit = None\n",
    "        delays = {}\n",
    "        slave_ids[path] = []\n",
    "        for file in os.listdir(path):\n",
    "            if 'HerdMasterAgent' in file:\n",
    "                try:\n",
    "                    df = pd.read_pickle(os.path.join(path,file), compression='bz2')\n",
    "                    master_profit = df.loc[df.EventType == 'ENDING_CASH', 'Event'].values[0] - df.loc[df.EventType == 'STARTING_CASH', 'Event'].values[0]\n",
    "                    m_id = int(file.split('HerdMasterAgent')[1].split('.')[0])\n",
    "                    master_ids[path] = m_id\n",
    "                except (IndexError, KeyError):\n",
    "                    continue                \n",
    "            if 'HerdSlaveAgent' in file:\n",
    "                try:\n",
    "                    s_id = int(file.split('HerdSlaveAgent')[1].split('.')[0])\n",
    "                    slave_ids[path].append(s_id)\n",
    "                    df = pd.read_pickle(os.path.join(path,file), compression='bz2')\n",
    "                    delay = df.loc[df.EventType == 'DELAY', 'Event'].values[0]\n",
    "                    profit = df.loc[df.EventType == 'ENDING_CASH', 'Event'].values[0] - df.loc[df.EventType == 'STARTING_CASH', 'Event'].values[0]\n",
    "                    delays[delay] = profit\n",
    "                except (IndexError, KeyError):\n",
    "                    continue\n",
    "        x, y = np.asarray(sorted(delays.items()))[:, 0], np.asarray(sorted(delays.items()))[:, 1]\n",
    "        temp = pd.DataFrame({'DELAY': x, 'SLAVE_PROFIT': y})\n",
    "        temp['MASTER_PROFIT'] = master_profit\n",
    "        temp['SIMULATION'] = path\n",
    "        if output is None:\n",
    "            output = temp\n",
    "        else:\n",
    "            output = output.append(temp)\n",
    "    output['PERCENT'] = output.SLAVE_PROFIT/output.MASTER_PROFIT\n",
    "    output = output.sort_values(by='DELAY').reset_index(drop=True)\n",
    "    return output, slave_ids, master_ids"
   ]
  },
  {
   "cell_type": "code",
   "execution_count": 4,
   "metadata": {},
   "outputs": [],
   "source": [
    "def get_herd_impact(paths, slaves):\n",
    "    output = None\n",
    "    for path in paths:\n",
    "        df = pd.read_pickle(os.path.join(path,'EXCHANGE_AGENT.bz2'), compression='bz2')\n",
    "        df = df[df.EventType == 'ORDER_ACCEPTED']\n",
    "        df.reset_index(inplace=True)\n",
    "        temp = pd.DataFrame.from_dict(df[['EventTime', 'Event']].Event.to_dict()).T\n",
    "        temp['EventTime'] = df.EventTime\n",
    "        t = temp[temp.agent_id.isin(slaves[path])][['EventTime', 'quantity']].set_index('EventTime').resample('5T').sum()\n",
    "        t.rename(columns={'quantity': 'slave_vol'}, inplace=True)\n",
    "        t1 = temp[temp.is_buy_order == True][['EventTime', 'quantity']].set_index('EventTime').resample('5T').sum()\n",
    "        t1.rename(columns={\"quantity\": 'tot_vol'}, inplace=True)\n",
    "        t['SIMULATION'] = path\n",
    "        t['tot_vol'] = t1.tot_vol\n",
    "        \n",
    "        output = t if output is None else output.append(t)\n",
    "    return output"
   ]
  },
  {
   "cell_type": "markdown",
   "metadata": {},
   "source": [
    "Configuration 1"
   ]
  },
  {
   "cell_type": "code",
   "execution_count": null,
   "metadata": {},
   "outputs": [],
   "source": [
    "# end-time 12:00:00\n",
    "# master-window 1e+9\n",
    "# slave-min-delay 1e+1 \n",
    "# slave-max-delay 1e+8\n",
    "# 1 master\n",
    "# 40 slaves\n",
    "# limit orders\n",
    "\n",
    "# Master Strategy\n",
    "# if ask < r_f:\n",
    "#     buy = True\n",
    "#     p = ask - adjust_int\n",
    "#     size = self.getHoldings(self.symbol)*(-1) if self.getHoldings(self.symbol) < 0 else self.size\n",
    "#     if p >= r_f:\n",
    "#         return\n",
    "# elif bid > r_f:\n",
    "#     buy = False\n",
    "#     p = bid + adjust_int\n",
    "#     size = self.getHoldings(self.symbol) if self.getHoldings(self.symbol) > 0 else self.size\n",
    "#     if p <= r_f:\n",
    "#         return\n",
    "# if self.currentTime+delta < self.mkt_close:\n",
    "#     self.placeLimitOrder(self.symbol, size, buy, p)\n",
    "\n",
    "# Slave Strategy\n",
    "# if order['is_buy_order']:\n",
    "#     quantity = order['quantity']\n",
    "# else:\n",
    "#     quantity = self.getHoldings(self.symbol) if self.getHoldings(self.symbol) > 0 else order['quantity']\n",
    "# self.placeLimitOrder(order['symbol'], quantity, order['is_buy_order'], order['limit_price'])\n",
    "\n",
    "\n",
    "\n",
    "PATHS = [\"log/herd01_2_5_hour_0/\", \"log/herd01_2_5_hour_1/\", \"log/herd01_2_5_hour_2/\", \"log/herd01_2_5_hour_3/\", \n",
    "         \"log/herd01_2_5_hour_4/\", \"log/herd01_2_5_hour_5/\"]\n",
    "\n",
    "df, slave_ids = get_delays_and_profits(PATHS)\n",
    "df"
   ]
  },
  {
   "cell_type": "code",
   "execution_count": null,
   "metadata": {},
   "outputs": [],
   "source": [
    "df['g'] = df.index//30\n",
    "temp = df.groupby('g').agg(['mean', 'std'])\n",
    "temp"
   ]
  },
  {
   "cell_type": "code",
   "execution_count": null,
   "metadata": {
    "scrolled": false
   },
   "outputs": [],
   "source": [
    "plt.xlabel('Delay in ns')\n",
    "plt.ylabel('Percentage profit compared to master.')\n",
    "xmin, xmax= temp.DELAY['mean'].min(), temp.DELAY['mean'].max()\n",
    "plt.hlines(y=[0, 0.1, 0.2], xmin=[xmin, xmin, xmin], xmax=[xmax, xmax, xmax], colors='purple', linestyles='dashed')\n",
    "plt.errorbar(temp.DELAY['mean'], temp.PERCENT['mean'], yerr=temp.PERCENT['std'], ecolor='red')  \n",
    "plt.show()"
   ]
  },
  {
   "cell_type": "code",
   "execution_count": null,
   "metadata": {},
   "outputs": [],
   "source": [
    "t = get_herd_impact(PATHS, slave_ids)"
   ]
  },
  {
   "cell_type": "code",
   "execution_count": null,
   "metadata": {},
   "outputs": [],
   "source": [
    "t['PERCENT'] = t.slave_vol/t.tot_vol*100"
   ]
  },
  {
   "cell_type": "code",
   "execution_count": null,
   "metadata": {},
   "outputs": [],
   "source": [
    "#t.reset_index(inplace=True)\n",
    "temp = t.sort_values(by='EventTime').groupby('EventTime').agg(['mean', 'std']).reset_index()\n",
    "temp"
   ]
  },
  {
   "cell_type": "code",
   "execution_count": null,
   "metadata": {},
   "outputs": [],
   "source": [
    "plt.xlabel('Time')\n",
    "plt.ylabel('Volume')\n",
    "plt.errorbar(temp[1:].EventTime, temp[1:].slave_vol['mean'], yerr=temp[1:].slave_vol['std'], ecolor='red')  \n",
    "plt.errorbar(temp[1:].EventTime, temp[1:].tot_vol['mean'], yerr=temp[1:].tot_vol['std'], ecolor='red')  \n",
    "plt.show()"
   ]
  },
  {
   "cell_type": "code",
   "execution_count": null,
   "metadata": {
    "scrolled": true
   },
   "outputs": [],
   "source": [
    "plt.xlabel('Time')\n",
    "plt.ylabel('Volume percentage of herd')\n",
    "plt.errorbar(temp.EventTime, temp.PERCENT['mean'], yerr=temp.PERCENT['std'], ecolor='red')  \n",
    "plt.show()"
   ]
  },
  {
   "cell_type": "markdown",
   "metadata": {},
   "source": [
    "Configuration 2"
   ]
  },
  {
   "cell_type": "code",
   "execution_count": null,
   "metadata": {},
   "outputs": [],
   "source": [
    "# Changed slave strategy to this.\n",
    "\n",
    "\n",
    "# Slave Strategy\n",
    "# if order['is_buy_order']:\n",
    "#     quantity = self.getHoldings(self.symbol) * (-1) if self.getHoldings(self.symbol) < 0 else order['quantity']\n",
    "# else:\n",
    "#     quantity = self.getHoldings(self.symbol) if self.getHoldings(self.symbol) > 0 else order['quantity']\n",
    "# self.placeLimitOrder(order['symbol'], quantity, order['is_buy_order'], order['limit_price'])\n",
    "\n",
    "\n",
    "PATHS = [\"log/herd01_2_5_hour_0_s/\", \"log/herd01_2_5_hour_1_s/\", \"log/herd01_2_5_hour_2_s/\", \"log/herd01_2_5_hour_3_s/\", \n",
    "         \"log/herd01_2_5_hour_4_s/\", \"log/herd01_2_5_hour_5_s/\", \"log/herd01_2_5_hour_6_s/\"]\n",
    "\n",
    "df, slave_ids = get_delays_and_profits(PATHS)\n",
    "df"
   ]
  },
  {
   "cell_type": "code",
   "execution_count": null,
   "metadata": {},
   "outputs": [],
   "source": [
    "df['g'] = df.index//30\n",
    "temp = df.groupby('g').agg(['mean', 'std'])\n",
    "temp"
   ]
  },
  {
   "cell_type": "code",
   "execution_count": null,
   "metadata": {
    "scrolled": true
   },
   "outputs": [],
   "source": [
    "plt.xlabel('Delay in ns')\n",
    "plt.ylabel('Percentage profit compared to master.')\n",
    "xmin, xmax= temp.DELAY['mean'].min(), temp.DELAY['mean'].max()\n",
    "plt.hlines(y=[0, 0.1, 0.2], xmin=[xmin, xmin, xmin], xmax=[xmax, xmax, xmax], colors='purple', linestyles='dashed')\n",
    "plt.errorbar(temp.DELAY['mean'], temp.PERCENT['mean'], yerr=temp.PERCENT['std'], ecolor='red')  \n",
    "plt.show()"
   ]
  },
  {
   "cell_type": "markdown",
   "metadata": {},
   "source": [
    "Config. 3"
   ]
  },
  {
   "cell_type": "code",
   "execution_count": null,
   "metadata": {},
   "outputs": [],
   "source": [
    "# Changed limit orders to market orders and moved the message from accepted to placed\n",
    "# changed to master-window 5e+9\n",
    "\n",
    "\n",
    "PATHS = [\"log/herd01_2_5_hour_1_t/\"]\n",
    "\n",
    "df, slave_ids = get_delays_and_profits(PATHS)\n",
    "df"
   ]
  },
  {
   "cell_type": "code",
   "execution_count": null,
   "metadata": {},
   "outputs": [],
   "source": [
    "df['g'] = df.index//3\n",
    "temp = df.groupby('g').agg(['mean', 'std'])\n",
    "temp"
   ]
  },
  {
   "cell_type": "code",
   "execution_count": null,
   "metadata": {
    "scrolled": true
   },
   "outputs": [],
   "source": [
    "plt.xlabel('Delay in ns')\n",
    "plt.ylabel('Percentage profit compared to master.')\n",
    "xmin, xmax= temp.DELAY['mean'].min(), temp.DELAY['mean'].max()\n",
    "plt.hlines(y=[0, 0.75, -1, -2], xmin=[xmin, xmin, xmin, xmin], xmax=[xmax, xmax, xmax, xmax], colors='purple', linestyles='dashed')\n",
    "plt.errorbar(temp.DELAY['mean'], temp.PERCENT['mean'], yerr=temp.PERCENT['std'], ecolor='red')  \n",
    "plt.show()"
   ]
  },
  {
   "cell_type": "markdown",
   "metadata": {},
   "source": [
    "Config 4."
   ]
  },
  {
   "cell_type": "code",
   "execution_count": null,
   "metadata": {},
   "outputs": [],
   "source": [
    "# end-time 12:00:00\n",
    "# changed to master-window 5e+9\n",
    "# slave-min-delay 1e+1 \n",
    "# changed to slave-max-delay 1e+9\n",
    "# 1 master\n",
    "# changed to 60 slaves\n",
    "# changed to 100 momentum agents\n",
    "# back to limit orders\n",
    "\n",
    "# Master Strategy\n",
    "# if ask < r_f:\n",
    "#     buy = True\n",
    "#     p = ask - adjust_int\n",
    "#     size = self.getHoldings(self.symbol)*(-1) if self.getHoldings(self.symbol) < 0 else self.size\n",
    "#     if p >= r_f:\n",
    "#         return\n",
    "# elif bid > r_f:\n",
    "#     buy = False\n",
    "#     p = bid + adjust_int\n",
    "#     size = self.getHoldings(self.symbol) if self.getHoldings(self.symbol) > 0 else self.size\n",
    "#     if p <= r_f:\n",
    "#         return\n",
    "# if self.currentTime+delta < self.mkt_close:\n",
    "#     self.placeLimitOrder(self.symbol, size, buy, p)\n",
    "\n",
    "# Slave Strategy\n",
    "# if order['is_buy_order']:\n",
    "#     quantity = self.getHoldings(symbol) * (-1) if self.getHoldings(symbol) < 0 else quantity\n",
    "# else:\n",
    "#     quantity = self.getHoldings(self.symbol) if self.getHoldings(self.symbol) > 0 else order['quantity']\n",
    "# self.placeLimitOrder(order['symbol'], quantity, order['is_buy_order'], order['limit_price'])\n",
    "\n",
    "\n",
    "\n",
    "PATHS = [\"log/herd01_2_5_hour_1_z/\", \"log/herd01_2_5_hour_2_z/\", \"log/herd01_2_5_hour_3_z/\", \n",
    "         \"log/herd01_2_5_hour_4_z/\", \"log/herd01_2_5_hour_5_z/\"]\n",
    "\n",
    "df, slave_ids = get_delays_and_profits(PATHS)\n",
    "df"
   ]
  },
  {
   "cell_type": "code",
   "execution_count": null,
   "metadata": {},
   "outputs": [],
   "source": [
    "df['g'] = df.index//30\n",
    "temp = df.groupby('g').agg(['mean', 'std'])\n",
    "temp"
   ]
  },
  {
   "cell_type": "code",
   "execution_count": null,
   "metadata": {
    "scrolled": true
   },
   "outputs": [],
   "source": [
    "plt.xlabel('Delay in ns')\n",
    "plt.ylabel('Percentage profit compared to master.')\n",
    "xmin, xmax= temp.DELAY['mean'].min(), temp.DELAY['mean'].max()\n",
    "plt.hlines(y=[0.5, 0.75, 1], xmin=[xmin, xmin, xmin], xmax=[xmax, xmax, xmax], colors='purple', linestyles='dashed')\n",
    "plt.errorbar(temp.DELAY['mean'], temp.PERCENT['mean'], yerr=temp.PERCENT['std'], ecolor='red')  \n",
    "plt.show()"
   ]
  },
  {
   "cell_type": "markdown",
   "metadata": {},
   "source": [
    "Config 5"
   ]
  },
  {
   "cell_type": "code",
   "execution_count": null,
   "metadata": {},
   "outputs": [],
   "source": [
    "# I try to make it a bit more realistic with the herd representing a small volume of the total transactions.\n",
    "# changed to master-window 3e+9 \n",
    "# changed to slave-max-delay 1e+9\n",
    "# changed order size from 5 to 2\n",
    "# 1 master\n",
    "# changed to 40 slaves\n",
    "# changed to 300 momentum agents\n",
    "# limit orders\n",
    "\n",
    "# Master Strategy unchanged\n",
    "\n",
    "# Slave Strategy unchanged\n",
    "\n",
    "\n",
    "PATHS = [\"log/herd01_2_5_hour_1_x/\", \"log/herd01_2_5_hour_2_x/\", \"log/herd01_2_5_hour_3_x/\", \n",
    "         \"log/herd01_2_5_hour_4_x/\", \"log/herd01_2_5_hour_5_x/\", \"log/herd01_2_5_hour_6_x/\", \n",
    "         \"log/herd01_2_5_hour_7_x/\"]\n",
    "\n",
    "df, slave_ids = get_delays_and_profits(PATHS)\n",
    "df"
   ]
  },
  {
   "cell_type": "code",
   "execution_count": null,
   "metadata": {},
   "outputs": [],
   "source": [
    "df['g'] = df.index//30\n",
    "temp = df.groupby('g').agg(['mean', 'std'])\n",
    "temp"
   ]
  },
  {
   "cell_type": "code",
   "execution_count": null,
   "metadata": {},
   "outputs": [],
   "source": [
    "plt.xlabel('Delay in ns')\n",
    "plt.ylabel('Percentage profit compared to master.')\n",
    "xmin, xmax= temp.DELAY['mean'].min(), temp.DELAY['mean'].max()\n",
    "plt.hlines(y=[0.6, 0.75, 1], xmin=[xmin, xmin, xmin], xmax=[xmax, xmax, xmax], colors='purple', linestyles='dashed')\n",
    "plt.errorbar(temp.DELAY['mean'], temp.PERCENT['mean'], yerr=temp.PERCENT['std'], ecolor='red')  \n",
    "plt.show()"
   ]
  },
  {
   "cell_type": "code",
   "execution_count": null,
   "metadata": {},
   "outputs": [],
   "source": [
    "t = get_herd_impact(PATHS, slave_ids)"
   ]
  },
  {
   "cell_type": "code",
   "execution_count": null,
   "metadata": {
    "scrolled": true
   },
   "outputs": [],
   "source": [
    "t['PERCENT'] = t.slave_vol/t.tot_vol*100\n",
    "t.reset_index(inplace=True)\n",
    "temp = t.sort_values(by='EventTime').groupby('EventTime').agg(['mean', 'std']).reset_index()\n",
    "temp"
   ]
  },
  {
   "cell_type": "code",
   "execution_count": null,
   "metadata": {},
   "outputs": [],
   "source": [
    "plt.xlabel('Time')\n",
    "plt.ylabel('Volume')\n",
    "plt.errorbar(temp[1:].EventTime, temp[1:].slave_vol['mean'], yerr=temp[1:].slave_vol['std'], ecolor='red')  \n",
    "plt.errorbar(temp[1:].EventTime, temp[1:].tot_vol['mean'], yerr=temp[1:].tot_vol['std'], ecolor='red')  \n",
    "plt.show()"
   ]
  },
  {
   "cell_type": "code",
   "execution_count": null,
   "metadata": {
    "scrolled": true
   },
   "outputs": [],
   "source": [
    "plt.xlabel('Time')\n",
    "plt.ylabel('Volume percentage of herd')\n",
    "plt.errorbar(temp.EventTime, temp.PERCENT['mean'], yerr=temp.PERCENT['std'], ecolor='red')  \n",
    "plt.show()"
   ]
  },
  {
   "cell_type": "markdown",
   "metadata": {},
   "source": [
    "Config 6"
   ]
  },
  {
   "cell_type": "code",
   "execution_count": null,
   "metadata": {},
   "outputs": [],
   "source": [
    "# Herd02 config\n",
    "\n",
    "PATHS = []\n",
    "for file in os.listdir('log'):\n",
    "    if 'herd02' in file:\n",
    "        PATHS.append(f'log/{file}')\n",
    "\n",
    "df, slave_ids, master_ids = get_delays_and_profits(PATHS)\n",
    "df"
   ]
  },
  {
   "cell_type": "code",
   "execution_count": null,
   "metadata": {},
   "outputs": [],
   "source": [
    "df['g'] = df.index//120\n",
    "temp = df.groupby('g').agg(['mean', 'std'])\n",
    "temp"
   ]
  },
  {
   "cell_type": "code",
   "execution_count": null,
   "metadata": {
    "scrolled": true
   },
   "outputs": [],
   "source": [
    "plt.xlabel('Delay in ns')\n",
    "plt.ylabel('Percentage profit compared to master.')\n",
    "xmin, xmax= temp.DELAY['mean'].min(), temp.DELAY['mean'].max()\n",
    "plt.hlines(y=[0, 0.5, 1], xmin=[xmin, xmin, xmin], xmax=[xmax, xmax, xmax], colors='purple', linestyles='dashed')\n",
    "plt.errorbar(temp.DELAY['mean'], temp.PERCENT['mean'], yerr=temp.PERCENT['std'], ecolor='red')  \n",
    "plt.show()"
   ]
  },
  {
   "cell_type": "code",
   "execution_count": null,
   "metadata": {},
   "outputs": [],
   "source": [
    "temp[temp.agent_id == master_ids[PATHS[0]]][['EventTime', 'quantity']].set_index('EventTime')[560:].head(50)"
   ]
  },
  {
   "cell_type": "code",
   "execution_count": null,
   "metadata": {},
   "outputs": [],
   "source": [
    "df = pd.read_pickle(os.path.join(path,'EXCHANGE_AGENT.bz2'), compression='bz2')\n",
    "df = df[df.EventType == 'ORDER_ACCEPTED']\n",
    "df.reset_index(inplace=True)\n",
    "temp = pd.DataFrame.from_dict(df[['EventTime', 'Event']].Event.to_dict()).T\n",
    "temp['EventTime'] = df.EventTime\n",
    "t = temp[temp.agent_id.isin(slaves[path])][['EventTime', 'quantity']].set_index('EventTime').resample('5T').sum()\n",
    "t.rename(columns={'quantity': 'slave_vol'}, inplace=True)\n",
    "t1 = temp[temp.is_buy_order == True][['EventTime', 'quantity']].set_index('EventTime').resample('5T').sum()\n",
    "t1.rename(columns={\"quantity\": 'tot_vol'}, inplace=True)\n",
    "t['SIMULATION'] = path\n",
    "t['tot_vol'] = t1.tot_vol\n",
    "\n",
    "output = t if output is None else output.append(t)\n"
   ]
  },
  {
   "cell_type": "code",
   "execution_count": null,
   "metadata": {},
   "outputs": [],
   "source": [
    "t = get_herd_impact(PATHS, slave_ids)\n",
    "t"
   ]
  },
  {
   "cell_type": "code",
   "execution_count": null,
   "metadata": {},
   "outputs": [],
   "source": [
    "t['PERCENT'] = t.slave_vol/t.tot_vol*100\n",
    "t.reset_index(inplace=True)"
   ]
  },
  {
   "cell_type": "code",
   "execution_count": null,
   "metadata": {},
   "outputs": [],
   "source": [
    "temp = t.sort_values(by='EventTime').groupby('EventTime').agg(['mean', 'std']).reset_index()\n",
    "temp"
   ]
  },
  {
   "cell_type": "code",
   "execution_count": null,
   "metadata": {},
   "outputs": [],
   "source": [
    "plt.xlabel('Time')\n",
    "plt.ylabel('Volume')\n",
    "plt.errorbar(temp[1:].EventTime, temp[1:].slave_vol['mean'], yerr=temp[1:].slave_vol['std'], ecolor='red')  \n",
    "plt.errorbar(temp[1:].EventTime, temp[1:].tot_vol['mean'], yerr=temp[1:].tot_vol['std'], ecolor='red')  \n",
    "plt.show()"
   ]
  },
  {
   "cell_type": "code",
   "execution_count": null,
   "metadata": {},
   "outputs": [],
   "source": [
    "plt.xlabel('Time')\n",
    "plt.ylabel('Volume percentage of herd')\n",
    "plt.errorbar(temp.EventTime, temp.PERCENT['mean'], yerr=temp.PERCENT['std'], ecolor='red')  \n",
    "plt.show()"
   ]
  },
  {
   "cell_type": "code",
   "execution_count": null,
   "metadata": {},
   "outputs": [],
   "source": [
    "fun = pd.read_pickle(os.path.join(PATHS[10],'fundamental_ABM.bz2'), compression='bz2')"
   ]
  },
  {
   "cell_type": "code",
   "execution_count": null,
   "metadata": {},
   "outputs": [],
   "source": [
    "df = pd.read_pickle(os.path.join(PATHS[10],'EXCHANGE_AGENT.bz2'), compression='bz2')\n",
    "df = df[df.EventType == 'ORDER_EXECUTED']\n",
    "df.reset_index(inplace=True)"
   ]
  },
  {
   "cell_type": "code",
   "execution_count": null,
   "metadata": {
    "scrolled": true
   },
   "outputs": [],
   "source": [
    "temp = pd.DataFrame.from_dict(df[['EventTime', 'Event']].Event.to_dict()).T\n",
    "temp['EventTime'] = df.EventTime"
   ]
  },
  {
   "cell_type": "code",
   "execution_count": null,
   "metadata": {},
   "outputs": [],
   "source": [
    "temp = temp.drop_duplicates(subset=['EventTime'])[['EventTime', 'fill_price']].reset_index(drop=True).set_index('EventTime').astype('int')\n",
    "temp"
   ]
  },
  {
   "cell_type": "code",
   "execution_count": null,
   "metadata": {
    "scrolled": true
   },
   "outputs": [],
   "source": [
    "(temp.resample('1T').mean()/100).plot()"
   ]
  },
  {
   "cell_type": "code",
   "execution_count": null,
   "metadata": {},
   "outputs": [],
   "source": []
  },
  {
   "cell_type": "code",
   "execution_count": null,
   "metadata": {},
   "outputs": [],
   "source": [
    "(fun.resample('1T').mean()/100).plot()"
   ]
  },
  {
   "cell_type": "code",
   "execution_count": 5,
   "metadata": {
    "scrolled": false
   },
   "outputs": [
    {
     "data": {
      "text/html": [
       "<div>\n",
       "<style scoped>\n",
       "    .dataframe tbody tr th:only-of-type {\n",
       "        vertical-align: middle;\n",
       "    }\n",
       "\n",
       "    .dataframe tbody tr th {\n",
       "        vertical-align: top;\n",
       "    }\n",
       "\n",
       "    .dataframe thead th {\n",
       "        text-align: right;\n",
       "    }\n",
       "</style>\n",
       "<table border=\"1\" class=\"dataframe\">\n",
       "  <thead>\n",
       "    <tr style=\"text-align: right;\">\n",
       "      <th></th>\n",
       "      <th>DELAY</th>\n",
       "      <th>SLAVE_PROFIT</th>\n",
       "      <th>MASTER_PROFIT</th>\n",
       "      <th>SIMULATION</th>\n",
       "      <th>PERCENT</th>\n",
       "    </tr>\n",
       "  </thead>\n",
       "  <tbody>\n",
       "    <tr>\n",
       "      <th>0</th>\n",
       "      <td>286883.0</td>\n",
       "      <td>1234.0</td>\n",
       "      <td>6800</td>\n",
       "      <td>log/herd03_seed_422396446</td>\n",
       "      <td>0.181471</td>\n",
       "    </tr>\n",
       "    <tr>\n",
       "      <th>1</th>\n",
       "      <td>342187.0</td>\n",
       "      <td>8186.0</td>\n",
       "      <td>7072</td>\n",
       "      <td>log/herd03_seed_3842306364</td>\n",
       "      <td>1.157523</td>\n",
       "    </tr>\n",
       "    <tr>\n",
       "      <th>2</th>\n",
       "      <td>428872.0</td>\n",
       "      <td>5448.0</td>\n",
       "      <td>5555</td>\n",
       "      <td>log/herd03_seed_1345499493</td>\n",
       "      <td>0.980738</td>\n",
       "    </tr>\n",
       "    <tr>\n",
       "      <th>3</th>\n",
       "      <td>850660.0</td>\n",
       "      <td>3344.0</td>\n",
       "      <td>7072</td>\n",
       "      <td>log/herd03_seed_3842306364</td>\n",
       "      <td>0.472851</td>\n",
       "    </tr>\n",
       "    <tr>\n",
       "      <th>4</th>\n",
       "      <td>1003303.0</td>\n",
       "      <td>9093.0</td>\n",
       "      <td>9971</td>\n",
       "      <td>log/herd03_seed_602957303</td>\n",
       "      <td>0.911945</td>\n",
       "    </tr>\n",
       "    <tr>\n",
       "      <th>...</th>\n",
       "      <td>...</td>\n",
       "      <td>...</td>\n",
       "      <td>...</td>\n",
       "      <td>...</td>\n",
       "      <td>...</td>\n",
       "    </tr>\n",
       "    <tr>\n",
       "      <th>5995</th>\n",
       "      <td>998611239.0</td>\n",
       "      <td>1695.0</td>\n",
       "      <td>6065</td>\n",
       "      <td>log/herd03_seed_2876537340</td>\n",
       "      <td>0.279472</td>\n",
       "    </tr>\n",
       "    <tr>\n",
       "      <th>5996</th>\n",
       "      <td>998738060.0</td>\n",
       "      <td>5361.0</td>\n",
       "      <td>7940</td>\n",
       "      <td>log/herd03_seed_1923688040</td>\n",
       "      <td>0.675189</td>\n",
       "    </tr>\n",
       "    <tr>\n",
       "      <th>5997</th>\n",
       "      <td>998973671.0</td>\n",
       "      <td>2626.0</td>\n",
       "      <td>4764</td>\n",
       "      <td>log/herd03_seed_1261063143</td>\n",
       "      <td>0.551217</td>\n",
       "    </tr>\n",
       "    <tr>\n",
       "      <th>5998</th>\n",
       "      <td>999444814.0</td>\n",
       "      <td>8783.0</td>\n",
       "      <td>6512</td>\n",
       "      <td>log/herd03_seed_1768615473</td>\n",
       "      <td>1.348741</td>\n",
       "    </tr>\n",
       "    <tr>\n",
       "      <th>5999</th>\n",
       "      <td>999824790.0</td>\n",
       "      <td>9380.0</td>\n",
       "      <td>11466</td>\n",
       "      <td>log/herd03_seed_1704103302</td>\n",
       "      <td>0.818071</td>\n",
       "    </tr>\n",
       "  </tbody>\n",
       "</table>\n",
       "<p>6000 rows × 5 columns</p>\n",
       "</div>"
      ],
      "text/plain": [
       "            DELAY  SLAVE_PROFIT  MASTER_PROFIT                  SIMULATION  \\\n",
       "0        286883.0        1234.0           6800   log/herd03_seed_422396446   \n",
       "1        342187.0        8186.0           7072  log/herd03_seed_3842306364   \n",
       "2        428872.0        5448.0           5555  log/herd03_seed_1345499493   \n",
       "3        850660.0        3344.0           7072  log/herd03_seed_3842306364   \n",
       "4       1003303.0        9093.0           9971   log/herd03_seed_602957303   \n",
       "...           ...           ...            ...                         ...   \n",
       "5995  998611239.0        1695.0           6065  log/herd03_seed_2876537340   \n",
       "5996  998738060.0        5361.0           7940  log/herd03_seed_1923688040   \n",
       "5997  998973671.0        2626.0           4764  log/herd03_seed_1261063143   \n",
       "5998  999444814.0        8783.0           6512  log/herd03_seed_1768615473   \n",
       "5999  999824790.0        9380.0          11466  log/herd03_seed_1704103302   \n",
       "\n",
       "       PERCENT  \n",
       "0     0.181471  \n",
       "1     1.157523  \n",
       "2     0.980738  \n",
       "3     0.472851  \n",
       "4     0.911945  \n",
       "...        ...  \n",
       "5995  0.279472  \n",
       "5996  0.675189  \n",
       "5997  0.551217  \n",
       "5998  1.348741  \n",
       "5999  0.818071  \n",
       "\n",
       "[6000 rows x 5 columns]"
      ]
     },
     "execution_count": 5,
     "metadata": {},
     "output_type": "execute_result"
    }
   ],
   "source": [
    "# Herd03 config\n",
    "\n",
    "PATHS = []\n",
    "for file in os.listdir('log'):\n",
    "    if 'herd03' in file:\n",
    "        PATHS.append(f'log/{file}')\n",
    "\n",
    "df, slave_ids, master_ids = get_delays_and_profits(PATHS)\n",
    "df"
   ]
  },
  {
   "cell_type": "code",
   "execution_count": 13,
   "metadata": {},
   "outputs": [
    {
     "data": {
      "text/html": [
       "<div>\n",
       "<style scoped>\n",
       "    .dataframe tbody tr th:only-of-type {\n",
       "        vertical-align: middle;\n",
       "    }\n",
       "\n",
       "    .dataframe tbody tr th {\n",
       "        vertical-align: top;\n",
       "    }\n",
       "\n",
       "    .dataframe thead tr th {\n",
       "        text-align: left;\n",
       "    }\n",
       "\n",
       "    .dataframe thead tr:last-of-type th {\n",
       "        text-align: right;\n",
       "    }\n",
       "</style>\n",
       "<table border=\"1\" class=\"dataframe\">\n",
       "  <thead>\n",
       "    <tr>\n",
       "      <th></th>\n",
       "      <th colspan=\"2\" halign=\"left\">DELAY</th>\n",
       "      <th colspan=\"2\" halign=\"left\">SLAVE_PROFIT</th>\n",
       "      <th colspan=\"2\" halign=\"left\">MASTER_PROFIT</th>\n",
       "      <th colspan=\"2\" halign=\"left\">PERCENT</th>\n",
       "    </tr>\n",
       "    <tr>\n",
       "      <th></th>\n",
       "      <th>mean</th>\n",
       "      <th>std</th>\n",
       "      <th>mean</th>\n",
       "      <th>std</th>\n",
       "      <th>mean</th>\n",
       "      <th>std</th>\n",
       "      <th>mean</th>\n",
       "      <th>std</th>\n",
       "    </tr>\n",
       "    <tr>\n",
       "      <th>g</th>\n",
       "      <th></th>\n",
       "      <th></th>\n",
       "      <th></th>\n",
       "      <th></th>\n",
       "      <th></th>\n",
       "      <th></th>\n",
       "      <th></th>\n",
       "      <th></th>\n",
       "    </tr>\n",
       "  </thead>\n",
       "  <tbody>\n",
       "    <tr>\n",
       "      <th>0</th>\n",
       "      <td>2.599193e+07</td>\n",
       "      <td>1.497188e+07</td>\n",
       "      <td>9457.496667</td>\n",
       "      <td>5778.447932</td>\n",
       "      <td>9390.543333</td>\n",
       "      <td>5341.543147</td>\n",
       "      <td>1.014528</td>\n",
       "      <td>0.324281</td>\n",
       "    </tr>\n",
       "    <tr>\n",
       "      <th>1</th>\n",
       "      <td>7.482449e+07</td>\n",
       "      <td>1.418810e+07</td>\n",
       "      <td>8971.156667</td>\n",
       "      <td>4933.225749</td>\n",
       "      <td>8969.966667</td>\n",
       "      <td>4100.095029</td>\n",
       "      <td>0.999235</td>\n",
       "      <td>0.308430</td>\n",
       "    </tr>\n",
       "    <tr>\n",
       "      <th>2</th>\n",
       "      <td>1.237401e+08</td>\n",
       "      <td>1.472173e+07</td>\n",
       "      <td>8680.096667</td>\n",
       "      <td>4941.580985</td>\n",
       "      <td>8983.770000</td>\n",
       "      <td>4682.379673</td>\n",
       "      <td>0.973812</td>\n",
       "      <td>0.329942</td>\n",
       "    </tr>\n",
       "    <tr>\n",
       "      <th>3</th>\n",
       "      <td>1.765181e+08</td>\n",
       "      <td>1.430960e+07</td>\n",
       "      <td>8897.710000</td>\n",
       "      <td>5517.329115</td>\n",
       "      <td>9313.080000</td>\n",
       "      <td>5176.908698</td>\n",
       "      <td>0.955516</td>\n",
       "      <td>0.383197</td>\n",
       "    </tr>\n",
       "    <tr>\n",
       "      <th>4</th>\n",
       "      <td>2.239471e+08</td>\n",
       "      <td>1.459970e+07</td>\n",
       "      <td>8916.420000</td>\n",
       "      <td>4986.964285</td>\n",
       "      <td>9494.933333</td>\n",
       "      <td>4969.716060</td>\n",
       "      <td>0.955494</td>\n",
       "      <td>0.321042</td>\n",
       "    </tr>\n",
       "    <tr>\n",
       "      <th>5</th>\n",
       "      <td>2.772314e+08</td>\n",
       "      <td>1.485603e+07</td>\n",
       "      <td>8849.510000</td>\n",
       "      <td>4914.496772</td>\n",
       "      <td>9679.826667</td>\n",
       "      <td>4958.589690</td>\n",
       "      <td>0.924929</td>\n",
       "      <td>0.290633</td>\n",
       "    </tr>\n",
       "    <tr>\n",
       "      <th>6</th>\n",
       "      <td>3.308337e+08</td>\n",
       "      <td>1.567792e+07</td>\n",
       "      <td>8173.880000</td>\n",
       "      <td>4581.363629</td>\n",
       "      <td>9346.656667</td>\n",
       "      <td>4907.671782</td>\n",
       "      <td>0.886583</td>\n",
       "      <td>0.311998</td>\n",
       "    </tr>\n",
       "    <tr>\n",
       "      <th>7</th>\n",
       "      <td>3.809213e+08</td>\n",
       "      <td>1.420441e+07</td>\n",
       "      <td>7806.470000</td>\n",
       "      <td>4648.578468</td>\n",
       "      <td>8911.983333</td>\n",
       "      <td>4681.188495</td>\n",
       "      <td>0.892054</td>\n",
       "      <td>0.406446</td>\n",
       "    </tr>\n",
       "    <tr>\n",
       "      <th>8</th>\n",
       "      <td>4.282417e+08</td>\n",
       "      <td>1.397103e+07</td>\n",
       "      <td>8138.876667</td>\n",
       "      <td>5012.520901</td>\n",
       "      <td>9368.830000</td>\n",
       "      <td>4752.195611</td>\n",
       "      <td>0.862762</td>\n",
       "      <td>0.299817</td>\n",
       "    </tr>\n",
       "    <tr>\n",
       "      <th>9</th>\n",
       "      <td>4.748018e+08</td>\n",
       "      <td>1.233859e+07</td>\n",
       "      <td>8366.826667</td>\n",
       "      <td>5644.717292</td>\n",
       "      <td>9406.496667</td>\n",
       "      <td>4852.364519</td>\n",
       "      <td>0.897599</td>\n",
       "      <td>0.482215</td>\n",
       "    </tr>\n",
       "    <tr>\n",
       "      <th>10</th>\n",
       "      <td>5.237470e+08</td>\n",
       "      <td>1.624924e+07</td>\n",
       "      <td>7119.570000</td>\n",
       "      <td>4422.693576</td>\n",
       "      <td>8880.450000</td>\n",
       "      <td>4143.496237</td>\n",
       "      <td>0.808658</td>\n",
       "      <td>0.368183</td>\n",
       "    </tr>\n",
       "    <tr>\n",
       "      <th>11</th>\n",
       "      <td>5.794474e+08</td>\n",
       "      <td>1.542855e+07</td>\n",
       "      <td>6802.776667</td>\n",
       "      <td>3617.596336</td>\n",
       "      <td>8823.633333</td>\n",
       "      <td>3668.873450</td>\n",
       "      <td>0.772290</td>\n",
       "      <td>0.313708</td>\n",
       "    </tr>\n",
       "    <tr>\n",
       "      <th>12</th>\n",
       "      <td>6.296114e+08</td>\n",
       "      <td>1.369760e+07</td>\n",
       "      <td>6903.563333</td>\n",
       "      <td>4774.717785</td>\n",
       "      <td>8990.036667</td>\n",
       "      <td>5010.610723</td>\n",
       "      <td>0.770382</td>\n",
       "      <td>0.384129</td>\n",
       "    </tr>\n",
       "    <tr>\n",
       "      <th>13</th>\n",
       "      <td>6.802370e+08</td>\n",
       "      <td>1.480414e+07</td>\n",
       "      <td>6822.043333</td>\n",
       "      <td>4241.086362</td>\n",
       "      <td>9053.670000</td>\n",
       "      <td>4074.939808</td>\n",
       "      <td>0.740740</td>\n",
       "      <td>0.284066</td>\n",
       "    </tr>\n",
       "    <tr>\n",
       "      <th>14</th>\n",
       "      <td>7.294241e+08</td>\n",
       "      <td>1.261331e+07</td>\n",
       "      <td>6324.733333</td>\n",
       "      <td>3735.629622</td>\n",
       "      <td>8863.393333</td>\n",
       "      <td>4159.098342</td>\n",
       "      <td>0.714143</td>\n",
       "      <td>0.303871</td>\n",
       "    </tr>\n",
       "    <tr>\n",
       "      <th>15</th>\n",
       "      <td>7.745879e+08</td>\n",
       "      <td>1.380868e+07</td>\n",
       "      <td>6529.426667</td>\n",
       "      <td>4623.596408</td>\n",
       "      <td>9019.036667</td>\n",
       "      <td>4470.089540</td>\n",
       "      <td>0.717423</td>\n",
       "      <td>0.361516</td>\n",
       "    </tr>\n",
       "    <tr>\n",
       "      <th>16</th>\n",
       "      <td>8.258070e+08</td>\n",
       "      <td>1.542038e+07</td>\n",
       "      <td>6616.430000</td>\n",
       "      <td>4576.658562</td>\n",
       "      <td>9233.403333</td>\n",
       "      <td>4571.399770</td>\n",
       "      <td>0.694278</td>\n",
       "      <td>0.317925</td>\n",
       "    </tr>\n",
       "    <tr>\n",
       "      <th>17</th>\n",
       "      <td>8.771747e+08</td>\n",
       "      <td>1.293181e+07</td>\n",
       "      <td>6988.800000</td>\n",
       "      <td>5137.023542</td>\n",
       "      <td>9323.496667</td>\n",
       "      <td>4142.323165</td>\n",
       "      <td>0.729346</td>\n",
       "      <td>0.410760</td>\n",
       "    </tr>\n",
       "    <tr>\n",
       "      <th>18</th>\n",
       "      <td>9.256565e+08</td>\n",
       "      <td>1.473236e+07</td>\n",
       "      <td>6877.746667</td>\n",
       "      <td>4985.046206</td>\n",
       "      <td>9593.343333</td>\n",
       "      <td>4574.674731</td>\n",
       "      <td>0.704226</td>\n",
       "      <td>0.408053</td>\n",
       "    </tr>\n",
       "    <tr>\n",
       "      <th>19</th>\n",
       "      <td>9.748717e+08</td>\n",
       "      <td>1.428819e+07</td>\n",
       "      <td>6740.380000</td>\n",
       "      <td>5537.769514</td>\n",
       "      <td>9986.850000</td>\n",
       "      <td>6281.402821</td>\n",
       "      <td>0.663835</td>\n",
       "      <td>0.358614</td>\n",
       "    </tr>\n",
       "  </tbody>\n",
       "</table>\n",
       "</div>"
      ],
      "text/plain": [
       "           DELAY               SLAVE_PROFIT              MASTER_PROFIT  \\\n",
       "            mean           std         mean          std          mean   \n",
       "g                                                                        \n",
       "0   2.599193e+07  1.497188e+07  9457.496667  5778.447932   9390.543333   \n",
       "1   7.482449e+07  1.418810e+07  8971.156667  4933.225749   8969.966667   \n",
       "2   1.237401e+08  1.472173e+07  8680.096667  4941.580985   8983.770000   \n",
       "3   1.765181e+08  1.430960e+07  8897.710000  5517.329115   9313.080000   \n",
       "4   2.239471e+08  1.459970e+07  8916.420000  4986.964285   9494.933333   \n",
       "5   2.772314e+08  1.485603e+07  8849.510000  4914.496772   9679.826667   \n",
       "6   3.308337e+08  1.567792e+07  8173.880000  4581.363629   9346.656667   \n",
       "7   3.809213e+08  1.420441e+07  7806.470000  4648.578468   8911.983333   \n",
       "8   4.282417e+08  1.397103e+07  8138.876667  5012.520901   9368.830000   \n",
       "9   4.748018e+08  1.233859e+07  8366.826667  5644.717292   9406.496667   \n",
       "10  5.237470e+08  1.624924e+07  7119.570000  4422.693576   8880.450000   \n",
       "11  5.794474e+08  1.542855e+07  6802.776667  3617.596336   8823.633333   \n",
       "12  6.296114e+08  1.369760e+07  6903.563333  4774.717785   8990.036667   \n",
       "13  6.802370e+08  1.480414e+07  6822.043333  4241.086362   9053.670000   \n",
       "14  7.294241e+08  1.261331e+07  6324.733333  3735.629622   8863.393333   \n",
       "15  7.745879e+08  1.380868e+07  6529.426667  4623.596408   9019.036667   \n",
       "16  8.258070e+08  1.542038e+07  6616.430000  4576.658562   9233.403333   \n",
       "17  8.771747e+08  1.293181e+07  6988.800000  5137.023542   9323.496667   \n",
       "18  9.256565e+08  1.473236e+07  6877.746667  4985.046206   9593.343333   \n",
       "19  9.748717e+08  1.428819e+07  6740.380000  5537.769514   9986.850000   \n",
       "\n",
       "                  PERCENT            \n",
       "            std      mean       std  \n",
       "g                                    \n",
       "0   5341.543147  1.014528  0.324281  \n",
       "1   4100.095029  0.999235  0.308430  \n",
       "2   4682.379673  0.973812  0.329942  \n",
       "3   5176.908698  0.955516  0.383197  \n",
       "4   4969.716060  0.955494  0.321042  \n",
       "5   4958.589690  0.924929  0.290633  \n",
       "6   4907.671782  0.886583  0.311998  \n",
       "7   4681.188495  0.892054  0.406446  \n",
       "8   4752.195611  0.862762  0.299817  \n",
       "9   4852.364519  0.897599  0.482215  \n",
       "10  4143.496237  0.808658  0.368183  \n",
       "11  3668.873450  0.772290  0.313708  \n",
       "12  5010.610723  0.770382  0.384129  \n",
       "13  4074.939808  0.740740  0.284066  \n",
       "14  4159.098342  0.714143  0.303871  \n",
       "15  4470.089540  0.717423  0.361516  \n",
       "16  4571.399770  0.694278  0.317925  \n",
       "17  4142.323165  0.729346  0.410760  \n",
       "18  4574.674731  0.704226  0.408053  \n",
       "19  6281.402821  0.663835  0.358614  "
      ]
     },
     "execution_count": 13,
     "metadata": {},
     "output_type": "execute_result"
    }
   ],
   "source": [
    "df['g'] = df.index//300\n",
    "temp = df.groupby('g').agg(['mean', 'std'])\n",
    "temp"
   ]
  },
  {
   "cell_type": "code",
   "execution_count": 14,
   "metadata": {},
   "outputs": [
    {
     "data": {
      "image/png": "[encoded data removed]",
      "text/plain": [
       "<Figure size 432x288 with 1 Axes>"
      ]
     },
     "metadata": {
      "needs_background": "light"
     },
     "output_type": "display_data"
    }
   ],
   "source": [
    "plt.xlabel('Delay in ns')\n",
    "plt.ylabel('Percentage profit compared to master.')\n",
    "xmin, xmax= temp.DELAY['mean'].min(), temp.DELAY['mean'].max()\n",
    "plt.hlines(y=[0.6, 0.8, 1], xmin=[xmin, xmin, xmin], xmax=[xmax, xmax, xmax], colors='purple', linestyles='dashed')\n",
    "plt.errorbar(temp.DELAY['mean'], temp.PERCENT['mean'], yerr=temp.PERCENT['std'], ecolor='red')  \n",
    "plt.show()"
   ]
  },
  {
   "cell_type": "code",
   "execution_count": null,
   "metadata": {},
   "outputs": [],
   "source": []
  }
 ],
 "metadata": {
  "kernelspec": {
   "display_name": "Python 3",
   "language": "python",
   "name": "python3"
  },
  "language_info": {
   "codemirror_mode": {
    "name": "ipython",
    "version": 3
   },
   "file_extension": ".py",
   "mimetype": "text/x-python",
   "name": "python",
   "nbconvert_exporter": "python",
   "pygments_lexer": "ipython3",
   "version": "3.8.5"
  }
 },
 "nbformat": 4,
 "nbformat_minor": 4
}

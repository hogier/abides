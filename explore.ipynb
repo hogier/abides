{
 "cells": [
  {
   "cell_type": "code",
   "execution_count": 1,
   "metadata": {},
   "outputs": [],
   "source": [
    "import pandas as pd\n",
    "import numpy as np\n",
    "import os\n",
    "import matplotlib.pyplot as plt\n",
    "%matplotlib inline"
   ]
  },
  {
   "cell_type": "code",
   "execution_count": 2,
   "metadata": {},
   "outputs": [],
   "source": [
    "PATH = \"log/herd01_2_hour/\""
   ]
  },
  {
   "cell_type": "code",
   "execution_count": 3,
   "metadata": {},
   "outputs": [],
   "source": [
    "def get_delays_and_profits(path):\n",
    "    delays = {}\n",
    "    for file in os.listdir(path):\n",
    "        if 'HerdSlaveAgent' in file:\n",
    "            try:\n",
    "                df = pd.read_pickle(os.path.join(PATH,file), compression='bz2')\n",
    "                delay = df.loc[df.EventType == 'DELAY', 'Event'].values[0]\n",
    "                profit = df.loc[df.EventType == 'ENDING_CASH', 'Event'].values[0] - df.loc[df.EventType == 'STARTING_CASH', 'Event'].values[0]\n",
    "                delays[delay] = profit\n",
    "            except (IndexError, KeyError):\n",
    "                continue\n",
    "    return delays"
   ]
  },
  {
   "cell_type": "code",
   "execution_count": 4,
   "metadata": {},
   "outputs": [],
   "source": [
    "delays = get_delays_and_profits(PATH)"
   ]
  },
  {
   "cell_type": "code",
   "execution_count": 5,
   "metadata": {},
   "outputs": [
    {
     "data": {
      "text/plain": [
       "array([288296., 160855.,  92072., 166721., 170145., 238848., 119275.,\n",
       "       168939., 151556., 173636., 152616., 193430., 119140., 172504.,\n",
       "       160724., 121441., 136919., 162996., 108534.,  17073., 217470.,\n",
       "       -17120.,  15663., 171434.,  10006.,  79944.,  24358.,  70753.,\n",
       "       171981., 131666.,  17986.,  67944., -16848.,  44964.,  34978.,\n",
       "       108150.,  52928.,  -4494.,  32736.,  10658.,  18061., -24520.,\n",
       "        17384., -21687.,   -936.,  18591., -18259.,  38552.,  -8271.,\n",
       "         7581.,  -7469.,  14274.,   -597.,  11466.,   8079.,  -5972.,\n",
       "         3750.,   8202.,   1854.,  -5164.])"
      ]
     },
     "execution_count": 5,
     "metadata": {},
     "output_type": "execute_result"
    }
   ],
   "source": [
    "np.asarray(sorted(delays.items()))[:, 1]"
   ]
  },
  {
   "cell_type": "code",
   "execution_count": 6,
   "metadata": {},
   "outputs": [
    {
     "data": {
      "text/plain": [
       "{77001306: -936,\n",
       " 17153185: 151556,\n",
       " 66859645: 18061,\n",
       " 26456311: 172504,\n",
       " 20063298: 173636,\n",
       " 30579654: 136919,\n",
       " 64804271: 52928,\n",
       " 95452600: 8202,\n",
       " 94034439: -5972,\n",
       " 36477357: 17073,\n",
       " 987055: 288296,\n",
       " 77434098: 18591,\n",
       " 13575559: 168939,\n",
       " 83021547: 7581,\n",
       " 33734856: 162996,\n",
       " 77679065: -18259,\n",
       " 6148960: 92072,\n",
       " 67591476: 17384,\n",
       " 10678666: 238848,\n",
       " 34016459: 108534,\n",
       " 94979820: 3750,\n",
       " 42782464: 15663,\n",
       " 6882579: 166721,\n",
       " 37019284: 217470,\n",
       " 83645201: -7469,\n",
       " 3722509: 160855,\n",
       " 64825309: -4494,\n",
       " 10056124: 170145,\n",
       " 52248725: 131666.0,\n",
       " 90725886: 11466,\n",
       " 61273241: 108150.0,\n",
       " 40822976: -17120,\n",
       " 30181722: 121441,\n",
       " 85481239: -597,\n",
       " 66641349: 10658,\n",
       " 96876695: -5164,\n",
       " 72392489: -21687,\n",
       " 81577147: -8271,\n",
       " 20155881: 152616,\n",
       " 93148187: 8079,\n",
       " 78863890: 38552,\n",
       " 12296185: 119275,\n",
       " 58674230: -16848,\n",
       " 42794275: 171434,\n",
       " 66387857: 32736,\n",
       " 55078451: 17986,\n",
       " 50686885: 171981.0,\n",
       " 67489832: -24520,\n",
       " 95757331: 1854,\n",
       " 59216310: 44964,\n",
       " 49643870: 24358,\n",
       " 43683157: 10006,\n",
       " 60701915: 34978,\n",
       " 56813833: 67944,\n",
       " 23415788: 193430,\n",
       " 83708624: 14274,\n",
       " 25525547: 119140,\n",
       " 45904913: 79944,\n",
       " 50528304: 70753,\n",
       " 26577358: 160724}"
      ]
     },
     "execution_count": 6,
     "metadata": {},
     "output_type": "execute_result"
    }
   ],
   "source": [
    "delays"
   ]
  },
  {
   "cell_type": "code",
   "execution_count": 7,
   "metadata": {},
   "outputs": [
    {
     "data": {
      "text/html": [
       "<div>\n",
       "<style scoped>\n",
       "    .dataframe tbody tr th:only-of-type {\n",
       "        vertical-align: middle;\n",
       "    }\n",
       "\n",
       "    .dataframe tbody tr th {\n",
       "        vertical-align: top;\n",
       "    }\n",
       "\n",
       "    .dataframe thead th {\n",
       "        text-align: right;\n",
       "    }\n",
       "</style>\n",
       "<table border=\"1\" class=\"dataframe\">\n",
       "  <thead>\n",
       "    <tr style=\"text-align: right;\">\n",
       "      <th></th>\n",
       "      <th>EventType</th>\n",
       "      <th>Event</th>\n",
       "    </tr>\n",
       "    <tr>\n",
       "      <th>EventTime</th>\n",
       "      <th></th>\n",
       "      <th></th>\n",
       "    </tr>\n",
       "  </thead>\n",
       "  <tbody>\n",
       "    <tr>\n",
       "      <th>NaT</th>\n",
       "      <td>AGENT_TYPE</td>\n",
       "      <td>HerdMasterAgent</td>\n",
       "    </tr>\n",
       "    <tr>\n",
       "      <th>NaT</th>\n",
       "      <td>WAKE_FREQUENCY</td>\n",
       "      <td>1e+09</td>\n",
       "    </tr>\n",
       "    <tr>\n",
       "      <th>NaT</th>\n",
       "      <td>STARTING_CASH</td>\n",
       "      <td>10000000</td>\n",
       "    </tr>\n",
       "    <tr>\n",
       "      <th>2020-06-03 00:00:00.000000000</th>\n",
       "      <td>HOLDINGS_UPDATED</td>\n",
       "      <td>{'CASH': 10000000}</td>\n",
       "    </tr>\n",
       "    <tr>\n",
       "      <th>2020-06-03 09:30:00.008123292</th>\n",
       "      <td>BID_DEPTH</td>\n",
       "      <td>[(99870, 50)]</td>\n",
       "    </tr>\n",
       "    <tr>\n",
       "      <th>...</th>\n",
       "      <td>...</td>\n",
       "      <td>...</td>\n",
       "    </tr>\n",
       "    <tr>\n",
       "      <th>2020-06-03 11:29:59.016499676</th>\n",
       "      <td>FINAL_CASH_POSITION</td>\n",
       "      <td>223736056</td>\n",
       "    </tr>\n",
       "    <tr>\n",
       "      <th>2020-06-03 11:29:59.016499676</th>\n",
       "      <td>MARK_TO_MARKET</td>\n",
       "      <td>-2132 ABM @ 99822 == -212820504</td>\n",
       "    </tr>\n",
       "    <tr>\n",
       "      <th>2020-06-03 11:29:59.016499676</th>\n",
       "      <td>MARKED_TO_MARKET</td>\n",
       "      <td>10915552</td>\n",
       "    </tr>\n",
       "    <tr>\n",
       "      <th>2020-06-03 11:29:59.016499676</th>\n",
       "      <td>ENDING_CASH</td>\n",
       "      <td>10915552</td>\n",
       "    </tr>\n",
       "    <tr>\n",
       "      <th>2020-06-03 11:29:59.016499676</th>\n",
       "      <td>FINAL_VALUATION</td>\n",
       "      <td>21.164</td>\n",
       "    </tr>\n",
       "  </tbody>\n",
       "</table>\n",
       "<p>26245 rows × 2 columns</p>\n",
       "</div>"
      ],
      "text/plain": [
       "                                         EventType  \\\n",
       "EventTime                                            \n",
       "NaT                                     AGENT_TYPE   \n",
       "NaT                                 WAKE_FREQUENCY   \n",
       "NaT                                  STARTING_CASH   \n",
       "2020-06-03 00:00:00.000000000     HOLDINGS_UPDATED   \n",
       "2020-06-03 09:30:00.008123292            BID_DEPTH   \n",
       "...                                            ...   \n",
       "2020-06-03 11:29:59.016499676  FINAL_CASH_POSITION   \n",
       "2020-06-03 11:29:59.016499676       MARK_TO_MARKET   \n",
       "2020-06-03 11:29:59.016499676     MARKED_TO_MARKET   \n",
       "2020-06-03 11:29:59.016499676          ENDING_CASH   \n",
       "2020-06-03 11:29:59.016499676      FINAL_VALUATION   \n",
       "\n",
       "                                                         Event  \n",
       "EventTime                                                       \n",
       "NaT                                            HerdMasterAgent  \n",
       "NaT                                                      1e+09  \n",
       "NaT                                                   10000000  \n",
       "2020-06-03 00:00:00.000000000               {'CASH': 10000000}  \n",
       "2020-06-03 09:30:00.008123292                    [(99870, 50)]  \n",
       "...                                                        ...  \n",
       "2020-06-03 11:29:59.016499676                        223736056  \n",
       "2020-06-03 11:29:59.016499676  -2132 ABM @ 99822 == -212820504  \n",
       "2020-06-03 11:29:59.016499676                         10915552  \n",
       "2020-06-03 11:29:59.016499676                         10915552  \n",
       "2020-06-03 11:29:59.016499676                           21.164  \n",
       "\n",
       "[26245 rows x 2 columns]"
      ]
     },
     "execution_count": 7,
     "metadata": {},
     "output_type": "execute_result"
    }
   ],
   "source": [
    "df = pd.read_pickle(os.path.join(PATH,'HerdMasterAgent5203.bz2'), compression='bz2')\n",
    "df"
   ]
  },
  {
   "cell_type": "code",
   "execution_count": 8,
   "metadata": {},
   "outputs": [
    {
     "data": {
      "text/plain": [
       "[<matplotlib.lines.Line2D at 0x7f70fee01c10>]"
      ]
     },
     "execution_count": 8,
     "metadata": {},
     "output_type": "execute_result"
    },
    {
     "data": {
      "image/png": "[encoded data removed]",
      "text/plain": [
       "<Figure size 432x288 with 1 Axes>"
      ]
     },
     "metadata": {
      "needs_background": "light"
     },
     "output_type": "display_data"
    }
   ],
   "source": [
    "# python -u abides.py -c herd01 -t ABM -d 20200603 -s 1234 -l herd01_2_hour --end-time 11:30:00 --master-window 1e+9\n",
    "plt.plot(np.asarray(sorted(delays.items()))[:, 0], np.asarray(sorted(delays.items()))[:, 1])"
   ]
  },
  {
   "cell_type": "code",
   "execution_count": null,
   "metadata": {},
   "outputs": [],
   "source": []
  }
 ],
 "metadata": {
  "kernelspec": {
   "display_name": "Python 3",
   "language": "python",
   "name": "python3"
  },
  "language_info": {
   "codemirror_mode": {
    "name": "ipython",
    "version": 3
   },
   "file_extension": ".py",
   "mimetype": "text/x-python",
   "name": "python",
   "nbconvert_exporter": "python",
   "pygments_lexer": "ipython3",
   "version": "3.8.5"
  }
 },
 "nbformat": 4,
 "nbformat_minor": 4
}
